{
 "cells": [
  {
   "cell_type": "code",
   "execution_count": 1,
   "metadata": {},
   "outputs": [],
   "source": [
    "import torch\n",
    "from torch.utils.data import Dataset\n",
    "import scipy.io\n",
    "import os\n",
    "from torch.utils.data import DataLoader, random_split\n",
    "import pytorch_lightning as pl\n",
    "import matplotlib.pyplot as plt\n",
    "import numpy as np"
   ]
  },
  {
   "cell_type": "code",
   "execution_count": 2,
   "metadata": {},
   "outputs": [],
   "source": [
    "class MatDataset(Dataset):\n",
    "    def __init__(self, input_dir, target_dir, transform=None):\n",
    "        \"\"\"\n",
    "        input_dir: 入力データのディレクトリ（例：'data/inputs'）\n",
    "        target_dir: ターゲットデータのディレクトリ（例：'data/targets'）\n",
    "        transform: オプションの前処理\n",
    "        \"\"\"\n",
    "        self.input_dir = input_dir\n",
    "        self.target_dir = target_dir\n",
    "        self.transform = transform\n",
    "        input_files = sorted(os.listdir(self.input_dir))\n",
    "        target_files = sorted(os.listdir(self.target_dir))\n",
    "\n",
    "        self.input_images = []   # 個々の画像（Tensor）のリスト\n",
    "        self.target_images = []  # 対応するターゲット画像のリスト\n",
    "\n",
    "        # 各グループ（＝ファイル）ごとに画像を読み込み、平坦化してリストに追加\n",
    "        for input_file, target_file in zip(input_files, target_files):\n",
    "            input_path = os.path.join(self.input_dir, input_file)\n",
    "            target_path = os.path.join(self.target_dir, target_file)\n",
    "            \n",
    "            input_data = scipy.io.loadmat(input_path)['v_dopdata']    # (256, 256, 1000)\n",
    "            target_data = scipy.io.loadmat(target_path)['v_thetadata']  # (256, 256, 1000)\n",
    "            \n",
    "            input_data = input_data.transpose(2, 0, 1)    # (1000, 256, 256)\n",
    "            target_data = target_data.transpose(2, 0, 1)  # (1000, 256, 256)\n",
    "            \n",
    "            num_images = input_data.shape[0]\n",
    "            for i in range(num_images):\n",
    "                # 各画像は (256, 256) のNumPy配列 → Tensor化し、チャンネル次元を追加して (1, 256, 256) に\n",
    "                img_tensor = torch.tensor(input_data[i], dtype=torch.float32).unsqueeze(0)\n",
    "                tgt_tensor = torch.tensor(target_data[i], dtype=torch.float32).unsqueeze(0)\n",
    "                \n",
    "                if self.transform:\n",
    "                    img_tensor = self.transform(img_tensor)\n",
    "                    tgt_tensor = self.transform(tgt_tensor)\n",
    "                \n",
    "                self.input_images.append(img_tensor)\n",
    "                self.target_images.append(tgt_tensor)\n",
    "                \n",
    "    def __len__(self):\n",
    "        return len(self.input_images)\n",
    "    \n",
    "    def __getitem__(self, idx):\n",
    "        return self.input_images[idx], self.target_images[idx]"
   ]
  },
  {
   "cell_type": "code",
   "execution_count": 3,
   "metadata": {},
   "outputs": [],
   "source": [
    "data_loader = DataLoader(\n",
    "    MatDataset('../data/train/inputs', '../data/train/targets'), \n",
    "    batch_size=4, \n",
    "    shuffle=True\n",
    ")"
   ]
  },
  {
   "cell_type": "code",
   "execution_count": 4,
   "metadata": {},
   "outputs": [],
   "source": [
    "def get_global_max(data_loader):\n",
    "    global_max = 0.0\n",
    "    for batch in data_loader:\n",
    "        inputs, targets = batch  # (batch_size, C, H, W) の形\n",
    "        max_val = max(torch.abs(inputs).max().item(), torch.abs(targets).max().item())\n",
    "        if max_val > global_max:\n",
    "            global_max = max_val\n",
    "    return global_max"
   ]
  },
  {
   "cell_type": "code",
   "execution_count": 5,
   "metadata": {},
   "outputs": [],
   "source": [
    "def get_data_by_dataloader(data_loader, sample_rate=0.1):\n",
    "    \"\"\" DataLoader からデータを収集し、値の分布を取得 \"\"\"\n",
    "    input_values = []\n",
    "    target_values = []\n",
    "\n",
    "    for i, (inputs, targets) in enumerate(data_loader):\n",
    "        input_values.extend(inputs.flatten().tolist())  # 1D 配列に変換\n",
    "        target_values.extend(targets.flatten().tolist())\n",
    "\n",
    "        # 一部のデータのみ収集して計算量を抑える\n",
    "        if i / len(data_loader) > sample_rate:\n",
    "            break\n",
    "\n",
    "    return input_values, target_values"
   ]
  },
  {
   "cell_type": "code",
   "execution_count": 6,
   "metadata": {},
   "outputs": [],
   "source": [
    "input_values, target_values = get_data_by_dataloader(data_loader)"
   ]
  },
  {
   "cell_type": "code",
   "execution_count": 11,
   "metadata": {},
   "outputs": [
    {
     "data": {
      "text/plain": [
       "59506688"
      ]
     },
     "execution_count": 11,
     "metadata": {},
     "output_type": "execute_result"
    }
   ],
   "source": [
    "len(input_values)"
   ]
  },
  {
   "cell_type": "code",
   "execution_count": 13,
   "metadata": {},
   "outputs": [],
   "source": [
    "input_values = np.array(input_values)\n",
    "filtered_input_values = input_values[input_values != 0]\n",
    "target_values = np.array(target_values)\n",
    "filtered_target_values = target_values[target_values != 0]"
   ]
  },
  {
   "cell_type": "code",
   "execution_count": 21,
   "metadata": {},
   "outputs": [
    {
     "data": {
      "text/plain": [
       "np.float64(0.7881543636322021)"
      ]
     },
     "execution_count": 21,
     "metadata": {},
     "output_type": "execute_result"
    }
   ],
   "source": [
    "np.max(np.abs(filtered_target_values))"
   ]
  },
  {
   "cell_type": "code",
   "execution_count": 16,
   "metadata": {},
   "outputs": [
    {
     "data": {
      "text/plain": [
       "np.float64(0.12420759747107674)"
      ]
     },
     "execution_count": 16,
     "metadata": {},
     "output_type": "execute_result"
    }
   ],
   "source": [
    "np.std(filtered_target_values)"
   ]
  },
  {
   "cell_type": "code",
   "execution_count": 18,
   "metadata": {},
   "outputs": [
    {
     "data": {
      "text/plain": [
       "array([0.00856888, 0.01784338, 0.0221501 , ..., 0.00305111, 0.07178804,\n",
       "       0.07392409], shape=(11882758,))"
      ]
     },
     "execution_count": 18,
     "metadata": {},
     "output_type": "execute_result"
    }
   ],
   "source": [
    "np.abs(filtered_target_values)"
   ]
  },
  {
   "cell_type": "code",
   "execution_count": 17,
   "metadata": {},
   "outputs": [
    {
     "data": {
      "text/plain": [
       "np.float64(0.08152587146424149)"
      ]
     },
     "execution_count": 17,
     "metadata": {},
     "output_type": "execute_result"
    }
   ],
   "source": [
    "np.mean(np.abs(filtered_target_values))"
   ]
  },
  {
   "cell_type": "code",
   "execution_count": 15,
   "metadata": {},
   "outputs": [
    {
     "data": {
      "image/png": "[encoded data removed]",
      "text/plain": [
       "<Figure size 1200x500 with 2 Axes>"
      ]
     },
     "metadata": {},
     "output_type": "display_data"
    }
   ],
   "source": [
    "# ヒストグラムの描画\n",
    "\n",
    "filtered_input_values = input_values[input_values != 0]\n",
    "\n",
    "plt.figure(figsize=(12, 5))\n",
    "\n",
    "plt.subplot(1, 2, 1)\n",
    "plt.hist(filtered_input_values, bins=100, density=False, alpha=0.6, color='b')\n",
    "plt.xlabel(\"Input Values\")\n",
    "plt.ylabel(\"Density\")\n",
    "plt.title(\"Distribution of Input Data\")\n",
    "\n",
    "plt.subplot(1, 2, 2)\n",
    "plt.hist(filtered_target_values, bins=100, density=False, alpha=0.6, color='r')\n",
    "plt.xlabel(\"Target Values\")\n",
    "plt.ylabel(\"Density\")\n",
    "plt.title(\"Distribution of Target Data\")\n",
    "\n",
    "plt.tight_layout()\n",
    "plt.show()"
   ]
  },
  {
   "cell_type": "code",
   "execution_count": null,
   "metadata": {},
   "outputs": [],
   "source": [
    "# グローバル最大値を取得\n",
    "global_max = get_global_max(data_loader)\n",
    "print(f\"Global max value: {global_max}\")"
   ]
  }
 ],
 "metadata": {
  "kernelspec": {
   "display_name": ".nk",
   "language": "python",
   "name": "python3"
  },
  "language_info": {
   "codemirror_mode": {
    "name": "ipython",
    "version": 3
   },
   "file_extension": ".py",
   "mimetype": "text/x-python",
   "name": "python",
   "nbconvert_exporter": "python",
   "pygments_lexer": "ipython3",
   "version": "3.11.9"
  }
 },
 "nbformat": 4,
 "nbformat_minor": 2
}
